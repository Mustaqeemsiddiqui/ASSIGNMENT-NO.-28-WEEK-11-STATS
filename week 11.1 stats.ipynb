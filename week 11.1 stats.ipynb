{
 "cells": [
  {
   "cell_type": "markdown",
   "id": "d51a3710-384c-4803-bb43-a122583b4074",
   "metadata": {},
   "source": [
    "**Q1. What is the Probability density function?**"
   ]
  },
  {
   "cell_type": "markdown",
   "id": "ab7078cb-50b9-4932-bf96-b0115195af1b",
   "metadata": {},
   "source": [
    "**ANSWER**:----\n",
    "\n",
    "1)The probability density function (PDF) is a fundamental concept in probability theory and statistics that describes the likelihood of a continuous random variable taking on a particular value. \n",
    "\n",
    "2)A probability density function, \n",
    "f(x), of a continuous random variable \n",
    "X provides a function such that the area under the curve of \n",
    "f(x) over an interval gives the probability that \n",
    "X lies within that interval.`   \n",
    " \n",
    "3)It is the distribution of continuous data"
   ]
  },
  {
   "cell_type": "markdown",
   "id": "5513c03e-a9a6-4c0d-8157-af0dd2009497",
   "metadata": {},
   "source": [
    "**Q2. What are the types of Probability distribution?**"
   ]
  },
  {
   "cell_type": "markdown",
   "id": "5a8b01b8-3585-4657-9c52-5e7a3034ad19",
   "metadata": {},
   "source": [
    "**ANSWER**:---\n",
    "\n",
    "\n",
    "### Discrete Probability Distributions\n",
    "1. **Binomial Distribution**: Describes the number of successes in a fixed number of independent Bernoulli trials (yes/no experiments), each with the same probability of success.\n",
    "2. **Poisson Distribution**: Models the number of events occurring within a fixed interval of time or space, given the events occur with a constant mean rate and independently of the time since the last event.\n",
    "3. **Geometric Distribution**: Represents the number of trials needed for the first success in a series of independent Bernoulli trials.\n",
    "4. **Negative Binomial Distribution**: Generalizes the geometric distribution to count the number of trials needed to achieve a specified number of successes.\n",
    "5. **Hypergeometric Distribution**: Describes the number of successes in a sequence of draws from a finite population without replacement.\n",
    "\n",
    "### Continuous Probability Distributions\n",
    "1. **Normal (Gaussian) Distribution**: Characterized by its bell-shaped curve, it is defined by its mean (μ) and standard deviation (σ). It describes many natural phenomena and the central limit theorem.\n",
    "2. **Exponential Distribution**: Models the time between events in a Poisson process, where events occur continuously and independently at a constant average rate.\n",
    "3. **Uniform Distribution**: All outcomes are equally likely within a certain range [a, b]. Both continuous and discrete versions exist.\n",
    "4. **Gamma Distribution**: A two-parameter family of continuous probability distributions, it generalizes the exponential distribution.\n",
    "5. **Beta Distribution**: Defined on the interval [0, 1], often used in Bayesian statistics and modeling proportions.\n",
    "6. **Chi-Square Distribution**: Commonly used in hypothesis testing and confidence interval estimation for variance in a normal distribution.\n",
    "7. **Log-Normal Distribution**: If the logarithm of a variable is normally distributed, then the variable itself is log-normally distributed.\n",
    "\n",
    "### Other Important Distributions\n",
    "1. **Student's t-Distribution**: Used instead of the normal distribution for small sample sizes when the population standard deviation is unknown.\n",
    "2. **F-Distribution**: Arises in the analysis of variance (ANOVA), used to compare variances between different datasets.\n",
    "3. **Cauchy Distribution**: Known for its heavy tails, it has undefined mean and variance.\n"
   ]
  },
  {
   "cell_type": "markdown",
   "id": "9262ee82-ef7e-4456-b2aa-f6f36c23abae",
   "metadata": {},
   "source": [
    "**Q3. Write a Python function to calculate the probability density function of a normal distribution with\n",
    "given mean and standard deviation at a given point.**"
   ]
  },
  {
   "cell_type": "code",
   "execution_count": 2,
   "id": "8b0c0e61-1b90-4888-8e8e-e9221ec7bf8d",
   "metadata": {},
   "outputs": [
    {
     "name": "stdout",
     "output_type": "stream",
     "text": [
      "The PDF value at x = 1.0 is 0.24197072451914337\n"
     ]
    }
   ],
   "source": [
    "import math\n",
    "\n",
    "def normal_pdf(x, mean, std_dev):\n",
    "    \"\"\"Calculate the probability density function of a normal distribution.\n",
    "    \n",
    "    Args:\n",
    "        x (float): The point at which to evaluate the PDF.\n",
    "        mean (float): The mean (μ) of the normal distribution.\n",
    "        std_dev (float): The standard deviation (σ) of the normal distribution.\n",
    "        \n",
    "    Returns:\n",
    "        float: The value of the PDF at point x.\n",
    "    \"\"\"\n",
    "    variance = std_dev ** 2\n",
    "    denominator = math.sqrt(2 * math.pi * variance)\n",
    "    exponent = -((x - mean) ** 2) / (2 * variance)\n",
    "    return (1 / denominator) * math.exp(exponent)\n",
    "\n",
    "# Example \n",
    "x = 1.0\n",
    "mean = 0.0\n",
    "std_dev = 1.0\n",
    "pdf_value = normal_pdf(x, mean, std_dev)\n",
    "print(f\"The PDF value at x = {x} is {pdf_value}\")\n"
   ]
  },
  {
   "cell_type": "markdown",
   "id": "52ec20f4-9440-450f-93e6-372df6f270ad",
   "metadata": {},
   "source": [
    "**Q4. What are the properties of Binomial distribution? Give two examples of events where binomial\n",
    "distribution can be applied.**"
   ]
  },
  {
   "cell_type": "markdown",
   "id": "c9185256-b25a-4407-bc9b-5f7a75e020c7",
   "metadata": {},
   "source": [
    "**ANSWER**:---\n",
    "\n",
    "The binomial distribution is a discrete probability distribution that models the number of successes in a fixed number of independent Bernoulli trials, each with the same probability of success. Here are the key properties and two examples where it can be applied:\n",
    "\n",
    "### Properties of Binomial Distribution\n",
    "1. **Fixed Number of Trials (n)**: The distribution describes the number of successes in \\( n \\) independent trials.\n",
    "2. **Two Possible Outcomes**: Each trial has only two possible outcomes: success (usually denoted as 1) and failure (usually denoted as 0).\n",
    "3. **Constant Probability of Success (p)**: The probability of success is the same for each trial.\n",
    "4. **Independence**: The outcome of any trial is independent of the outcome of any other trial.\n",
    "5. **Random Variable (X)**: Represents the number of successes in \\( n \\) trials. \\( X \\) can take on integer values from 0 to \\( n \\).\n",
    "6. **Probability Mass Function (PMF)**: Given by:\n",
    "   \\[\n",
    "   P(X = k) = \\binom{n}{k} p^k (1 - p)^{n - k}\n",
    "   \\]\n",
    "   where \\( \\binom{n}{k} \\) is the binomial coefficient, \\( k \\) is the number of successes, \\( p \\) is the probability of success, and \\( (1 - p) \\) is the probability of failure.\n",
    "7. **Mean and Variance**:\n",
    "   - Mean: \\( \\mu = np \\)\n",
    "   - Variance: \\( \\sigma^2 = np(1 - p) \\)\n",
    "\n",
    "### Examples of Events Where Binomial Distribution Can Be Applied\n",
    "\n",
    "1. **Quality Control in Manufacturing**: Suppose a factory produces light bulbs, and historically 95% of them pass quality control tests. If a quality inspector randomly selects 20 light bulbs from a production lot, the number of light bulbs that pass the quality control tests follows a binomial distribution with parameters \\( n = 20 \\) and \\( p = 0.95 \\).\n",
    "\n",
    "2. **Survey Responses**: In a survey, suppose 60% of people say they prefer product A over product B. If a sample of 10 people is randomly selected from the population, the number of people in the sample who prefer product A follows a binomial distribution with parameters \\( n = 10 \\) and \\( p = 0.60 \\)."
   ]
  },
  {
   "cell_type": "markdown",
   "id": "59cd28c1-82eb-4f3c-b1a7-ce620b55f1a7",
   "metadata": {},
   "source": [
    "**Q5. Generate a random sample of size 1000 from a binomial distribution with probability of success 0.4\n",
    "and plot a histogram of the results using matplotlib.**"
   ]
  },
  {
   "cell_type": "code",
   "execution_count": 3,
   "id": "fa374995-82a2-44f4-8ad7-30277e91b44c",
   "metadata": {},
   "outputs": [
    {
     "data": {
      "image/png": "[encoded data removed]",
      "text/plain": [
       "<Figure size 1000x600 with 1 Axes>"
      ]
     },
     "metadata": {},
     "output_type": "display_data"
    }
   ],
   "source": [
    "import numpy as np\n",
    "import matplotlib.pyplot as plt\n",
    "\n",
    "# Parameters for the binomial distribution\n",
    "n = 1000        # Number of trials\n",
    "p = 0.4         # Probability of success\n",
    "sample_size = 1000\n",
    "\n",
    "# Generate a random sample\n",
    "sample = np.random.binomial(n, p, sample_size)\n",
    "\n",
    "# Plotting the histogram\n",
    "plt.figure(figsize=(10, 6))\n",
    "plt.hist(sample, bins=30, edgecolor='k', alpha=0.7)\n",
    "plt.title('Histogram of Binomial Distribution Sample')\n",
    "plt.xlabel('Number of Successes')\n",
    "plt.ylabel('Frequency')\n",
    "plt.grid(True)\n",
    "plt.show()\n"
   ]
  },
  {
   "cell_type": "markdown",
   "id": "2212eab6-d978-48c5-af80-f543dc0be78e",
   "metadata": {},
   "source": [
    "**Q6. Write a Python function to calculate the cumulative distribution function of a Poisson distribution\n",
    "with given mean at a given point.**"
   ]
  },
  {
   "cell_type": "code",
   "execution_count": 4,
   "id": "77118c31-424f-467e-aca7-63a1de3d247f",
   "metadata": {},
   "outputs": [
    {
     "name": "stdout",
     "output_type": "stream",
     "text": [
      "The CDF value at k = 5 is 0.9160820579686966\n"
     ]
    }
   ],
   "source": [
    "import math\n",
    "\n",
    "def poisson_cdf(k, mean):\n",
    "    \"\"\"Calculate the cumulative distribution function of a Poisson distribution.\n",
    "    \n",
    "    Args:\n",
    "        k (int): The point at which to evaluate the CDF.\n",
    "        mean (float): The mean (λ) of the Poisson distribution.\n",
    "        \n",
    "    Returns:\n",
    "        float: The value of the CDF at point k.\n",
    "    \"\"\"\n",
    "    cdf = 0.0\n",
    "    for i in range(0, k + 1):\n",
    "        cdf += (mean ** i) * math.exp(-mean) / math.factorial(i)\n",
    "    return cdf\n",
    "\n",
    "# Example usage\n",
    "k = 5\n",
    "mean = 3.0\n",
    "cdf_value = poisson_cdf(k, mean)\n",
    "print(f\"The CDF value at k = {k} is {cdf_value}\")\n"
   ]
  },
  {
   "cell_type": "markdown",
   "id": "5ce99f90-34b8-4e11-b59c-f4caf6acdf2e",
   "metadata": {},
   "source": [
    "**Q7. How Binomial distribution different from Poisson distribution?**"
   ]
  },
  {
   "cell_type": "markdown",
   "id": "cd7cb444-b83b-4001-a36e-5e1e0e61ed27",
   "metadata": {},
   "source": [
    "**ANSWER**:---\n",
    "\n",
    "The Binomial and Poisson distributions are both discrete probability distributions, but they have distinct characteristics and are used in different contexts. Here are the key differences between them:\n",
    "\n",
    "### Key Differences\n",
    "\n",
    "1. **Definition and Context of Use**:\n",
    "   - **Binomial Distribution**:\n",
    "     - Models the number of successes in a fixed number of independent Bernoulli trials.\n",
    "     - Each trial has two possible outcomes: success or failure.\n",
    "     - The probability of success (p) is constant for each trial.\n",
    "     - Commonly used in scenarios where the number of trials (n) is fixed and each trial is independent.\n",
    "   - **Poisson Distribution**:\n",
    "     - Models the number of events occurring within a fixed interval of time or space.\n",
    "     - Events occur with a known constant mean rate (\\(\\lambda\\)), and independently of the time since the last event.\n",
    "     - Used for modeling rare events over a continuous interval.\n",
    "\n",
    "2. **Parameters**:\n",
    "   - **Binomial Distribution**:\n",
    "     - Number of trials (\\(n\\)).\n",
    "     - Probability of success (\\(p\\)).\n",
    "   - **Poisson Distribution**:\n",
    "     - Mean number of events (\\(\\lambda\\)).\n",
    "\n",
    "3. **Probability Mass Function (PMF)**:\n",
    "   - **Binomial Distribution**:\n",
    "     \\[\n",
    "     P(X = k) = \\binom{n}{k} p^k (1 - p)^{n - k}\n",
    "     \\]\n",
    "     where \\(\\binom{n}{k}\\) is the binomial coefficient, \\(k\\) is the number of successes.\n",
    "   - **Poisson Distribution**:\n",
    "     \\[\n",
    "     P(X = k) = \\frac{\\lambda^k e^{-\\lambda}}{k!}\n",
    "     \\]\n",
    "     where \\(\\lambda\\) is the average rate of events, \\(k\\) is the number of events.\n",
    "\n",
    "4. **Mean and Variance**:\n",
    "   - **Binomial Distribution**:\n",
    "     - Mean: \\(\\mu = np\\)\n",
    "     - Variance: \\(\\sigma^2 = np(1 - p)\\)\n",
    "   - **Poisson Distribution**:\n",
    "     - Mean: \\(\\mu = \\lambda\\)\n",
    "     - Variance: \\(\\sigma^2 = \\lambda\\)\n",
    "\n",
    "5. **Nature of Trials**:\n",
    "   - **Binomial Distribution**: The number of trials is fixed and known in advance.\n",
    "   - **Poisson Distribution**: The number of trials is not fixed; instead, it counts occurrences over a continuous interval.\n",
    "\n",
    "### When to Use Each Distribution\n",
    "\n",
    "- **Binomial Distribution**: Use when you are dealing with a fixed number of independent trials, each with the same probability of success. Examples include:\n",
    "  - Tossing a coin a fixed number of times and counting the number of heads.\n",
    "  - Quality control in a manufacturing process where you check a fixed number of items for defects.\n",
    "\n",
    "- **Poisson Distribution**: Use when you are modeling the number of events in a fixed interval of time or space, especially when these events are rare. Examples include:\n",
    "  - Counting the number of emails received in an hour.\n",
    "  - Modeling the number of earthquakes in a region over a year.\n",
    "\n",
    "### Relationship Between the Two\n",
    "\n",
    "In some cases, the Poisson distribution can be used as an approximation to the Binomial distribution when the number of trials (\\(n\\)) is large and the probability of success (\\(p\\)) is small such that \\( np = \\lambda \\) is moderate. This approximation is useful for simplifying calculations when dealing with large \\( n \\)."
   ]
  },
  {
   "cell_type": "markdown",
   "id": "7afc6d81-5ad4-4f07-bdd4-b87deb0b584a",
   "metadata": {},
   "source": [
    "**Q8. Generate a random sample of size 1000 from a Poisson distribution with mean 5 and calculate the\n",
    "sample mean and variance.**"
   ]
  },
  {
   "cell_type": "code",
   "execution_count": 6,
   "id": "6dd9b620-e0ca-40ca-81e0-a500aeeeedfb",
   "metadata": {},
   "outputs": [
    {
     "name": "stdout",
     "output_type": "stream",
     "text": [
      "Sample Mean: 5.043\n",
      "Sample Variance: 5.0871509999999995\n"
     ]
    }
   ],
   "source": [
    "import numpy as np\n",
    "\n",
    "mean = 5\n",
    "sample_size = 1000\n",
    "\n",
    "sample = np.random.poisson(mean, sample_size)\n",
    "\n",
    "sample_mean = np.mean(sample)\n",
    "sample_variance = np.var(sample)\n",
    "\n",
    "print(f\"Sample Mean: {sample_mean}\")\n",
    "print(f\"Sample Variance: {sample_variance}\")\n"
   ]
  },
  {
   "cell_type": "markdown",
   "id": "11997f86-bd20-4bc6-9558-c580860e4a6d",
   "metadata": {},
   "source": [
    "**Q9. How mean and variance are related in Binomial distribution and Poisson distribution?**"
   ]
  },
  {
   "cell_type": "markdown",
   "id": "5eacbd84-366a-422d-bc2d-4d56f59f2314",
   "metadata": {},
   "source": [
    "**ANSWER**:---\n",
    "\n",
    "\n",
    "### Binomial Distribution\n",
    "\n",
    "For a Binomial distribution with parameters \\(n\\) (number of trials) and \\(p\\) (probability of success), the mean (\\(\\mu\\)) and variance (\\(\\sigma^2\\)) are given by:\n",
    "\n",
    "- **Mean**: \n",
    "  \\[\n",
    "  \\mu = np\n",
    "  \\]\n",
    "- **Variance**: \n",
    "  \\[\n",
    "  \\sigma^2 = np(1 - p)\n",
    "  \\]\n",
    "\n",
    "### Poisson Distribution\n",
    "\n",
    "For a Poisson distribution with parameter \\(\\lambda\\) (mean rate of occurrence), the mean (\\(\\mu\\)) and variance (\\(\\sigma^2\\)) are:\n",
    "\n",
    "- **Mean**: \n",
    "  \\[\n",
    "  \\mu = \\lambda\n",
    "  \\]\n",
    "- **Variance**: \n",
    "  \\[\n",
    "  \\sigma^2 = \\lambda\n",
    "  \\]\n",
    "\n",
    "### Illustrative Example\n",
    "\n",
    "1. **Binomial Distribution Example**:\n",
    "   - Suppose \\( n = 10 \\) trials and \\( p = 0.5 \\).\n",
    "   - Mean: \\( \\mu = np = 10 \\times 0.5 = 5 \\).\n",
    "   - Variance: \\( \\sigma^2 = np(1 - p) = 10 \\times 0.5 \\times (1 - 0.5) = 10 \\times 0.5 \\times 0.5 = 2.5 \\).\n",
    "\n",
    "2. **Poisson Distribution Example**:\n",
    "   - Suppose \\( \\lambda = 5 \\).\n",
    "   - Mean: \\( \\mu = \\lambda = 5 \\).\n",
    "   - Variance: \\( \\sigma^2 = \\lambda = 5 \\).\n",
    "\n",
    "### Relationship\n",
    "\n",
    "In the Binomial distribution:\n",
    "- The mean (\\(\\mu = np\\)) depends on both the number of trials (\\(n\\)) and the probability of success (\\(p\\)).\n",
    "- The variance (\\(\\sigma^2 = np(1 - p)\\)) also depends on both \\(n\\) and \\(p\\), and it reduces as \\(p\\) approaches 0 or 1, given a fixed \\(n\\).\n",
    "\n",
    "In the Poisson distribution:\n",
    "- The mean (\\(\\mu\\)) is equal to \\(\\lambda\\), which is the expected rate of occurrences.\n",
    "- The variance (\\(\\sigma^2\\)) is also equal to \\(\\lambda\\), indicating that the spread of the distribution is directly tied to the average rate.\n",
    "\n",
    "### Approximation Relationship\n",
    "\n",
    "For large \\(n\\) and small \\(p\\) such that \\(np\\) is moderate (say \\(\\lambda\\)), the Binomial distribution can be approximated by the Poisson distribution with \\(\\lambda = np\\). This is particularly useful because the Poisson distribution simplifies calculations by reducing the dependency on two parameters (in Binomial) to one parameter (\\(\\lambda\\)).\n",
    "\n",
    "\n"
   ]
  },
  {
   "cell_type": "markdown",
   "id": "341576e7-158a-4e0a-93f9-ecbef18b411a",
   "metadata": {},
   "source": [
    "**Q10. In normal distribution with respect to mean position, where does the least frequent data appear?**"
   ]
  },
  {
   "cell_type": "markdown",
   "id": "52ed7c73-c659-417b-ac29-2ef1479f5423",
   "metadata": {},
   "source": [
    "**ANSWER**:---\n",
    "\n",
    "In a normal distribution, the data is symmetrically distributed around the mean. The mean, median, and mode all coincide at the center of the distribution. The shape of the normal distribution is characterized by the familiar bell curve, which is symmetric about the mean.\n",
    "\n",
    "### Characteristics of the Normal Distribution\n",
    "- The highest frequency of data points occurs at the mean.\n",
    "- The frequency of data points decreases as you move away from the mean in either direction.\n",
    "- The tails of the distribution extend infinitely in both directions but never touch the horizontal axis.\n",
    "\n",
    "### Least Frequent Data\n",
    "- The least frequent data points appear in the tails of the distribution, farthest from the mean.\n",
    "- These areas are located at the extreme ends of the distribution, known as the \"tails.\"\n",
    "\n",
    "### Understanding the Tails\n",
    "- The tails represent the data points that are several standard deviations away from the mean.\n",
    "- In a standard normal distribution (mean = 0, standard deviation = 1), data points beyond ±3 standard deviations from the mean are very rare.\n",
    "  - Approximately 68% of the data falls within ±1 standard deviation.\n",
    "  - Approximately 95% of the data falls within ±2 standard deviations.\n",
    "  - Approximately 99.7% of the data falls within ±3 standard deviations.\n",
    "- Therefore, the data points beyond these ranges (in the tails) are the least frequent.\n"
   ]
  },
  {
   "cell_type": "code",
   "execution_count": null,
   "id": "5d56f403-346c-4efd-83c8-c5bfd3140faa",
   "metadata": {},
   "outputs": [],
   "source": []
  }
 ],
 "metadata": {
  "kernelspec": {
   "display_name": "Python 3 (ipykernel)",
   "language": "python",
   "name": "python3"
  },
  "language_info": {
   "codemirror_mode": {
    "name": "ipython",
    "version": 3
   },
   "file_extension": ".py",
   "mimetype": "text/x-python",
   "name": "python",
   "nbconvert_exporter": "python",
   "pygments_lexer": "ipython3",
   "version": "3.10.8"
  }
 },
 "nbformat": 4,
 "nbformat_minor": 5
}
